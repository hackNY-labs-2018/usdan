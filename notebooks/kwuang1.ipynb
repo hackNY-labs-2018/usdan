{
 "cells": [
  {
   "cell_type": "code",
   "execution_count": 31,
   "metadata": {
    "scrolled": false
   },
   "outputs": [],
   "source": [
    "import pandas as pd\n",
    "df = pd.read_csv(\"../data/UsdanRegistration2016-2018.csv\", encoding='utf-8')\n",
    "df = df.rename(columns = lambda s:s.split(\"::\")[-1].strip('_'))\n",
    "df.query('year==2018')\n",
    "\n",
    "_ = df"
   ]
  },
  {
   "cell_type": "code",
   "execution_count": 32,
   "metadata": {},
   "outputs": [],
   "source": [
    "y18=df.query('year==2018')\n",
    "y18.dropna(axis=0, subset=['Major'])\n",
    "#y18 = y18.fillna(0)\n",
    "groups = y18.groupby([\"Major\", \"program_t\"])\n",
    "data = groups.sum()\n",
    "data['net_per_student'] = groups.sum()['TotalAmount']/groups.count()['year']\n",
    "data['net_per_student'].sort_values(ascending=False)\n",
    "\n",
    "_ = df"
   ]
  },
  {
   "cell_type": "code",
   "execution_count": null,
   "metadata": {},
   "outputs": [],
   "source": []
  }
 ],
 "metadata": {
  "kernelspec": {
   "display_name": "Python 3",
   "language": "python",
   "name": "python3"
  },
  "language_info": {
   "codemirror_mode": {
    "name": "ipython",
    "version": 3
   },
   "file_extension": ".py",
   "mimetype": "text/x-python",
   "name": "python",
   "nbconvert_exporter": "python",
   "pygments_lexer": "ipython3",
   "version": "3.6.6"
  }
 },
 "nbformat": 4,
 "nbformat_minor": 2
}
