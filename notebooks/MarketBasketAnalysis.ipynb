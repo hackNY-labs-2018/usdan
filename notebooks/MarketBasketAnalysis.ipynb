{
 "cells": [
  {
   "cell_type": "code",
   "execution_count": 1,
   "metadata": {},
   "outputs": [],
   "source": [
    "import pandas as pd"
   ]
  },
  {
   "cell_type": "code",
   "execution_count": 2,
   "metadata": {},
   "outputs": [],
   "source": [
    "data = pd.read_csv(\"../data/UsdanRegistration2016-2018.csv\", encoding=\"utf-8\")"
   ]
  },
  {
   "cell_type": "code",
   "execution_count": 8,
   "metadata": {},
   "outputs": [],
   "source": [
    "data[\"Major\"] = data[\"Major\"].astype('category')\n",
    "data[\"Minor1\"] = data[\"Minor1\"].astype('category')\n",
    "data[\"Minor2\"] = data[\"Minor2\"].astype('category')\n",
    "data[\"LargeAid\"] = data[\"_TuitionAidTotal\"]\n",
    "data[\"LargeAid\"] = data[\"LargeAid\"].fillna(data[\"_ScholarshipTotal\"])"
   ]
  },
  {
   "cell_type": "code",
   "execution_count": 9,
   "metadata": {},
   "outputs": [
    {
     "name": "stdout",
     "output_type": "stream",
     "text": [
      "(3417, 26)\n",
      "(1180, 26)\n"
     ]
    }
   ],
   "source": [
    "non_schol = data[pd.isnull(data[\"LargeAid\"])]\n",
    "schol = data.dropna(axis=0, subset=[\"LargeAid\"])\n",
    "print non_schol.shape\n",
    "print schol.shape"
   ]
  },
  {
   "cell_type": "code",
   "execution_count": 43,
   "metadata": {},
   "outputs": [
    {
     "name": "stdout",
     "output_type": "stream",
     "text": [
      "                                                           0\n",
      "Major                                                       \n",
      "Jazz Ensemble - Advanced                                 inf\n",
      "Intermediate Jazz Ensemble                               inf\n",
      "Advanced Jazz Ensemble                              5.000000\n",
      "Bassoon                                             5.000000\n",
      "Senior Dance Makers: Choreographic Institute        4.000000\n",
      "Senior Chorus                                       2.714286\n",
      "Saxophone                                           1.772727\n",
      "String Bass                                         1.750000\n",
      "French Horn                                         1.600000\n",
      "Creative Writing: Making Magic, Monsters and More   1.500000\n",
      "Tuba                                                1.400000\n",
      "Junior Chorus                                       1.339286\n",
      "Clarinet                                            1.250000\n",
      "Ballet                                              1.166667\n",
      "Violin                                              1.150685\n",
      "Trumpet                                             1.130435\n",
      "Jazz Ensemble                                       1.105263\n",
      "Viola                                               1.052632\n",
      "Intermediate/Advanced Piano                         1.000000\n",
      "Drama                                               1.000000\n",
      "Trombone                                            0.928571\n",
      "Cello                                               0.880000\n",
      "Flute                                               0.804878\n",
      "Dance Adventure                                     0.695652\n",
      "Oboe                                                0.625000\n",
      "Baritone                                            0.600000\n",
      "Percussion                                          0.586207\n",
      "Usdan Troupe                                        0.578947\n",
      "Open Studio 2D                                      0.500000\n",
      "Hip Hop                                             0.500000\n",
      "...                                                      ...\n",
      "Stop Motion Animation & Narrative Art 2A            0.000000\n",
      "Alvin Ailey Modern Dance: Horton Technique & Co...  0.000000\n",
      "Studio Art                                          0.000000\n",
      "Introduction to Dance + Theater                     0.000000\n",
      "Soft Sculpture  & Fiber Arts 2B                     0.000000\n",
      "Contemporary Dance                                  0.000000\n",
      "Alvin Ailey Jazz Technique & Composition 2A         0.000000\n",
      "Alvin Ailey Hip Hop Technique & Composition 2C      0.000000\n",
      "Comic Art & Narrative Art 2A                        0.000000\n",
      "Art Adventure: Comic Art and Narrative Art 2A       0.000000\n",
      "Experimental Animation & Cartooning                 0.000000\n",
      "HOLD - Waiting on Matinee Idols                     0.000000\n",
      "Stagecraft 101                                      0.000000\n",
      "Soft Sculpture                                      0.000000\n",
      "Painting & Drawing & Fiber Arts 2B                  0.000000\n",
      "Introduction to Dance + Theater 2C                  0.000000\n",
      "Introduction to Musical Theater                     0.000000\n",
      "Cosplay Workshop & Sculpture 2C                     0.000000\n",
      "Art Adventure: Collage, Construction & puppets 2C   0.000000\n",
      "Matinee Idols & Jr. Chorus 2C                       0.000000\n",
      "Photography & Sculpture 2C                          0.000000\n",
      "Photography & Narrative Art 2A                      0.000000\n",
      "Photography & Fiber Arts 2B                         0.000000\n",
      "Photography & Fiber Arts                            0.000000\n",
      "Matinee Idols Meet “Mean Girls”                     0.000000\n",
      "Art Adventure: Painting & Drawing, & Fiber Arts 2B  0.000000\n",
      "Painting People & Fiber Arts 2B                     0.000000\n",
      "Painting Exploration                                0.000000\n",
      "Painting & Drawing Exploration                      0.000000\n",
      "Creative Writing: Making Magic & Monsters           0.000000\n",
      "\n",
      "[101 rows x 1 columns]\n"
     ]
    },
    {
     "data": {
      "text/html": [
       "<div>\n",
       "<style scoped>\n",
       "    .dataframe tbody tr th:only-of-type {\n",
       "        vertical-align: middle;\n",
       "    }\n",
       "\n",
       "    .dataframe tbody tr th {\n",
       "        vertical-align: top;\n",
       "    }\n",
       "\n",
       "    .dataframe thead th {\n",
       "        text-align: right;\n",
       "    }\n",
       "</style>\n",
       "<table border=\"1\" class=\"dataframe\">\n",
       "  <thead>\n",
       "    <tr style=\"text-align: right;\">\n",
       "      <th></th>\n",
       "      <th>Major</th>\n",
       "      <th>0</th>\n",
       "    </tr>\n",
       "  </thead>\n",
       "  <tbody>\n",
       "    <tr>\n",
       "      <th>80</th>\n",
       "      <td>Senior Chorus</td>\n",
       "      <td>76</td>\n",
       "    </tr>\n",
       "  </tbody>\n",
       "</table>\n",
       "</div>"
      ],
      "text/plain": [
       "            Major   0\n",
       "80  Senior Chorus  76"
      ]
     },
     "execution_count": 43,
     "metadata": {},
     "output_type": "execute_result"
    }
   ],
   "source": [
    "schol_totals = schol.groupby(\"Major\").size().to_frame()\n",
    "nonschol_totals = non_schol.groupby(\"Major\").size().sort_values(ascending=False).to_frame()\n",
    "print (schol_totals / nonschol_totals).sort_values(by=0, ascending = False)\n",
    "schol_totals.reset_index()[schol_totals.reset_index()[\"Major\"] == \"Senior Chorus\"]"
   ]
  },
  {
   "cell_type": "code",
   "execution_count": null,
   "metadata": {},
   "outputs": [],
   "source": []
  }
 ],
 "metadata": {
  "kernelspec": {
   "display_name": "Python 2",
   "language": "python",
   "name": "python2"
  },
  "language_info": {
   "codemirror_mode": {
    "name": "ipython",
    "version": 2
   },
   "file_extension": ".py",
   "mimetype": "text/x-python",
   "name": "python",
   "nbconvert_exporter": "python",
   "pygments_lexer": "ipython2",
   "version": "2.7.15"
  }
 },
 "nbformat": 4,
 "nbformat_minor": 2
}
