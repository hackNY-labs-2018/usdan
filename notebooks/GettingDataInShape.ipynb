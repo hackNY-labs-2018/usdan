{
 "cells": [
  {
   "cell_type": "code",
   "execution_count": 21,
   "metadata": {},
   "outputs": [],
   "source": [
    "import pandas as pd"
   ]
  },
  {
   "cell_type": "code",
   "execution_count": 22,
   "metadata": {},
   "outputs": [],
   "source": [
    "def diff(first, second):\n",
    "        second = set(second)\n",
    "        return [item for item in first if item not in second]"
   ]
  },
  {
   "cell_type": "code",
   "execution_count": 23,
   "metadata": {},
   "outputs": [],
   "source": [
    "info2018 = pd.read_excel(\"/Users/wheld/Downloads/awesomeness.xlsx\")\n",
    "info2017 = pd.read_excel(\"/Users/wheld/Documents/2017.xlsx\")\n",
    "info2016 = pd.read_excel(\"/Users/wheld/Documents/2016.xlsx\")"
   ]
  },
  {
   "cell_type": "code",
   "execution_count": 24,
   "metadata": {},
   "outputs": [],
   "source": [
    "info2018[\"year\"] = 2018\n",
    "info2017[\"year\"] = 2017\n",
    "info2016[\"year\"] = 2016\n",
    "info2018 = info2018.rename(index=str, columns={u'reg_SESSIONS::Major': u'Major',\n",
    " u'reg_SESSIONS::Minor1': u'Minor1',\n",
    " u'reg_SESSIONS::Minor2': u'Minor2',\n",
    " u'reg_SESSIONS::program_t': u'reg_PROGRAMS::program_t',\n",
    " u'_TransTotal': u'_TotalAmount'})\n",
    "info2017 = info2017.rename(index=str, columns={u'reg_SESSIONS::Major': u'Major',\n",
    " u'reg_SESSIONS::Minor1': u'Minor1',\n",
    " u'reg_SESSIONS::Minor2': u'Minor2',\n",
    " u'reg_SESSIONS::program_t': u'reg_PROGRAMS::program_t',\n",
    " u'_TransTotal': u'_TotalAmount'})"
   ]
  },
  {
   "cell_type": "code",
   "execution_count": 25,
   "metadata": {},
   "outputs": [],
   "source": [
    "data = info2018.append(info2017).append(info2016)"
   ]
  },
  {
   "cell_type": "code",
   "execution_count": 32,
   "metadata": {},
   "outputs": [],
   "source": [
    "not2016 = diff(data.columns.values, info2016.columns.values)"
   ]
  },
  {
   "cell_type": "code",
   "execution_count": 36,
   "metadata": {},
   "outputs": [],
   "source": [
    "data = data.drop(not2016, axis=1)"
   ]
  },
  {
   "cell_type": "code",
   "execution_count": 38,
   "metadata": {},
   "outputs": [],
   "source": [
    "data.to_csv(\"UsdanRegistration2016-2018.csv\", encoding=\"utf-8\")"
   ]
  },
  {
   "cell_type": "code",
   "execution_count": null,
   "metadata": {},
   "outputs": [],
   "source": []
  }
 ],
 "metadata": {
  "kernelspec": {
   "display_name": "Python 2",
   "language": "python",
   "name": "python2"
  },
  "language_info": {
   "codemirror_mode": {
    "name": "ipython",
    "version": 2
   },
   "file_extension": ".py",
   "mimetype": "text/x-python",
   "name": "python",
   "nbconvert_exporter": "python",
   "pygments_lexer": "ipython2",
   "version": "2.7.15"
  }
 },
 "nbformat": 4,
 "nbformat_minor": 2
}
